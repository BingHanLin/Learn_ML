{
 "cells": [
  {
   "cell_type": "markdown",
   "source": [
    "## The PDE example"
   ],
   "metadata": {}
  },
  {
   "cell_type": "markdown",
   "source": [
    "The PDE equation is:\r\n",
    "\r\n",
    "$$\\frac{\\partial \\phi}{\\partial t}=-u\\frac{\\partial \\phi}{\\partial x}$$"
   ],
   "metadata": {
    "colab_type": "text",
    "id": "J6eLaCMr_Hnm"
   }
  },
  {
   "cell_type": "markdown",
   "source": [
    "With the initial value:\r\n",
    "$$\\phi_0 = \\phi(x,0)$$"
   ],
   "metadata": {}
  },
  {
   "cell_type": "code",
   "execution_count": 2,
   "source": [
    "# TensorFlow and tf.keras\r\n",
    "import tensorflow as tf\r\n",
    "\r\n",
    "# Helper libraries\r\n",
    "import numpy as np\r\n",
    "import matplotlib.pyplot as plt\r\n",
    "import time\r\n",
    "\r\n",
    "# tf.compat.v1.disable_eager_execution()"
   ],
   "outputs": [],
   "metadata": {}
  },
  {
   "cell_type": "markdown",
   "source": [
    "# 1. Build model"
   ],
   "metadata": {}
  },
  {
   "cell_type": "markdown",
   "source": [
    "## [Model](https://weikaiwei.com/tf/tensorflow-2-mnist-2/)"
   ],
   "metadata": {}
  },
  {
   "cell_type": "code",
   "execution_count": 3,
   "source": [
    "class solve_PDE_Model():\r\n",
    "    def __init__(self, loss_calculator):\r\n",
    "        self.loss_calculator = loss_calculator\r\n",
    "        self.optimizer = tf.keras.optimizers.Adam(learning_rate=0.01)\r\n",
    "        self.metrics = tf.keras.metrics.Mean(0.001)\r\n",
    "\r\n",
    "        inputs = tf.keras.Input(shape=(2,), name=\"inputs\")\r\n",
    "        x = tf.keras.layers.Dense(units=20, activation=tf.nn.sigmoid, name='layer1')(inputs)\r\n",
    "        x = tf.keras.layers.Dense(units=20, activation=tf.nn.sigmoid, name='layer2')(x)\r\n",
    "        x = tf.keras.layers.Dense(units=20, activation=tf.nn.sigmoid, name='layer3')(x)\r\n",
    "        x = tf.keras.layers.Dense(units=20, activation=tf.nn.sigmoid, name='layer4')(x)\r\n",
    "        x = tf.keras.layers.Dense(units=20, activation=tf.nn.sigmoid, name='layer5')(x)\r\n",
    "        outputs = tf.keras.layers.Dense(units=1, name='output')(x)\r\n",
    "    \r\n",
    "        self.model = tf.keras.Model(inputs=inputs, outputs=outputs)\r\n",
    "            \r\n",
    "\r\n",
    "    def predict(self, x_data, t_data):\r\n",
    "        print(\"Start prediction\")\r\n",
    "        input_data = tf.stack([tf.reshape(x_data, [-1]), tf.reshape(t_data, [-1])], axis=1)\r\n",
    "        return self.model(input_data)\r\n",
    "\r\n",
    "    def train(self, x_data, t_data, epochs):\r\n",
    "        print(\"Start training\")\r\n",
    "        self.metrics.reset_states()\r\n",
    "\r\n",
    "        for epoch in range(epochs):\r\n",
    "            self.train_epoch(x_data, t_data)\r\n",
    "\r\n",
    "            if(epoch%500 == 0):\r\n",
    "                print(\"Epoch {0}, Loss {1}\".format(epoch, self.metrics.result()))\r\n",
    "\r\n",
    "    @tf.function\r\n",
    "    def train_epoch(self, x_data, t_data):\r\n",
    "        with tf.GradientTape() as tape:\r\n",
    "            x_data_reshape = tf.reshape(x_data, [-1])\r\n",
    "            t_data_reshape = tf.reshape(t_data, [-1])\r\n",
    "            input_data = tf.stack([x_data_reshape, t_data_reshape], axis=1)\r\n",
    "\r\n",
    "            # Run forward\r\n",
    "            phi = self.model(input_data)\r\n",
    "            # Compute the loss value\r\n",
    "            loss = self.loss_calculator.loss(x_data_reshape, t_data_reshape, phi)\r\n",
    "\r\n",
    "\r\n",
    "        # Update metrics\r\n",
    "        self.metrics.update_state(loss)\r\n",
    "\r\n",
    "        # Compute gradients\r\n",
    "        trainable_vars = self.model.trainable_variables\r\n",
    "        gradients = tape.gradient(loss, trainable_vars)\r\n",
    "\r\n",
    "        #Update weights\r\n",
    "        self.optimizer.apply_gradients(zip(gradients, trainable_vars))\r\n"
   ],
   "outputs": [],
   "metadata": {}
  },
  {
   "cell_type": "markdown",
   "source": [
    "## [Loss function](https://www.tensorflow.org/guide/keras/train_and_evaluate#custom_losses)"
   ],
   "metadata": {}
  },
  {
   "cell_type": "code",
   "execution_count": 4,
   "source": [
    "class PDE_Loss():\r\n",
    "    def __init__(self, phi_init, u, regularization_factor=0.1):\r\n",
    "        self.phi_init = phi_init\r\n",
    "        self.u = u\r\n",
    "\r\n",
    "    def loss(self, x_data, t_data, phi):\r\n",
    "        phi_t = tf.gradients(phi, t_data)[0]\r\n",
    "        phi_x = tf.gradients(phi, x_data)[0]\r\n",
    "\r\n",
    "        phi_t = tf.reshape(phi_t, [phi_t.shape[0],1])\r\n",
    "        phi_x = tf.reshape(phi_x, [phi_x.shape[0],1])\r\n",
    "        \r\n",
    "        governing_Eq = phi_t+self.u+phi_x\r\n",
    "        \r\n",
    "        init_size = self.phi_init.shape[0]\r\n",
    "\r\n",
    "        number_of_time_step = governing_Eq.shape[0] / init_size\r\n",
    "\r\n",
    "        loss = tf.reduce_mean(tf.square(phi[:init_size]-self.phi_init)) \r\n",
    "\r\n",
    "        for one_time_step in range(1, int(number_of_time_step)):\r\n",
    "                    \r\n",
    "            loss += tf.reduce_sum(tf.square(\r\n",
    "                # governing_Eq in loss   \r\n",
    "                governing_Eq[one_time_step*init_size+1:(one_time_step+1)*init_size-1]\r\n",
    "            ))\r\n",
    "    \r\n",
    "            loss += tf.reduce_mean(tf.square(\r\n",
    "                 # bc in loss   \r\n",
    "                (phi[one_time_step*init_size][0]-1.0) \r\n",
    "            ))\r\n",
    "        \r\n",
    "            loss += tf.reduce_mean(tf.square(\r\n",
    "                 # bc in loss   \r\n",
    "                (phi[(one_time_step+1)*init_size-1][0]-1.0)\r\n",
    "            ))\r\n",
    "                \r\n",
    "\r\n",
    "        return loss\r\n",
    "    \r\n"
   ],
   "outputs": [],
   "metadata": {}
  },
  {
   "cell_type": "code",
   "execution_count": 8,
   "source": [
    "lx = 2\r\n",
    "nx = 20\r\n",
    "dx = lx / (nx-1)\r\n",
    "\r\n",
    "lt = 0.04\r\n",
    "nt = 4\r\n",
    "dt = lt / (nt-1)\r\n",
    "\r\n",
    "u = 1      #assume wavespeed of u = 1\r\n",
    "\r\n",
    "x_line = tf.linspace(0.0, lx, nx, name=\"x\")\r\n",
    "t_line = tf.linspace(0.0, lt, nt, name=\"t\")\r\n",
    "x_init = tf.identity(x_line, name=\"x_init\")\r\n",
    "x, t = tf.meshgrid(x_line, t_line)\r\n",
    "\r\n",
    "x = tf.reshape(x, [-1])\r\n",
    "t = tf.reshape(t, [-1])\r\n",
    "\r\n",
    "# tf.reshape(x, [-1])\r\n",
    "x\r\n",
    "# input_data = tf.stack([x, t], axis=1)\r\n",
    "# input_data\r\n",
    "\r\n",
    "# # sine wave init\r\n",
    "# np_phi_init = np.ones(nx)\r\n",
    "# sine_wave = np.linspace(0,2*np.pi, int(1.5 / dx + 1) - int(.5 / dx) )\r\n",
    "# np_phi_init[int(.5 / dx):int(1.5 / dx + 1)] += np.sin(sine_wave)\r\n",
    "# phi_init = tf.convert_to_tensor(np_phi_init, dtype=tf.float32, name=\"phi_init\")\r\n",
    "# phi_init = tf.reshape(phi_init, [phi_init.shape[0],1])\r\n",
    "\r\n",
    "# loss_calculator = PDE_Loss(phi_init,u)\r\n",
    "# myModel = solve_PDE_Model(loss_calculator)\r\n",
    "# myModel.train(x, t, 50000)\r\n"
   ],
   "outputs": [
    {
     "output_type": "execute_result",
     "data": {
      "text/plain": [
       "<tf.Tensor: shape=(80,), dtype=float32, numpy=\n",
       "array([0.        , 0.10526316, 0.21052632, 0.31578946, 0.42105263,\n",
       "       0.5263158 , 0.6315789 , 0.7368421 , 0.84210527, 0.94736844,\n",
       "       1.0526316 , 1.1578947 , 1.2631578 , 1.3684211 , 1.4736842 ,\n",
       "       1.5789474 , 1.6842105 , 1.7894737 , 1.8947369 , 2.        ,\n",
       "       0.        , 0.10526316, 0.21052632, 0.31578946, 0.42105263,\n",
       "       0.5263158 , 0.6315789 , 0.7368421 , 0.84210527, 0.94736844,\n",
       "       1.0526316 , 1.1578947 , 1.2631578 , 1.3684211 , 1.4736842 ,\n",
       "       1.5789474 , 1.6842105 , 1.7894737 , 1.8947369 , 2.        ,\n",
       "       0.        , 0.10526316, 0.21052632, 0.31578946, 0.42105263,\n",
       "       0.5263158 , 0.6315789 , 0.7368421 , 0.84210527, 0.94736844,\n",
       "       1.0526316 , 1.1578947 , 1.2631578 , 1.3684211 , 1.4736842 ,\n",
       "       1.5789474 , 1.6842105 , 1.7894737 , 1.8947369 , 2.        ,\n",
       "       0.        , 0.10526316, 0.21052632, 0.31578946, 0.42105263,\n",
       "       0.5263158 , 0.6315789 , 0.7368421 , 0.84210527, 0.94736844,\n",
       "       1.0526316 , 1.1578947 , 1.2631578 , 1.3684211 , 1.4736842 ,\n",
       "       1.5789474 , 1.6842105 , 1.7894737 , 1.8947369 , 2.        ],\n",
       "      dtype=float32)>"
      ]
     },
     "metadata": {},
     "execution_count": 8
    }
   ],
   "metadata": {
    "tags": []
   }
  },
  {
   "cell_type": "code",
   "execution_count": 5,
   "source": [
    "result = myModel.predict(x, t)\r\n",
    "print(result)"
   ],
   "outputs": [
    {
     "output_type": "stream",
     "name": "stdout",
     "text": [
      "Start prediction\n",
      "tf.Tensor(\n",
      "[[1.0020164 ]\n",
      " [0.9314272 ]\n",
      " [0.92734057]\n",
      " [1.016303  ]\n",
      " [1.2175012 ]\n",
      " [1.5173483 ]\n",
      " [1.8280762 ]\n",
      " [1.9602896 ]\n",
      " [1.686097  ]\n",
      " [0.9929447 ]\n",
      " [0.31404406]\n",
      " [0.05800688]\n",
      " [0.18904787]\n",
      " [0.48218066]\n",
      " [0.7651874 ]\n",
      " [0.96392894]\n",
      " [1.0688361 ]\n",
      " [1.0968748 ]\n",
      " [1.0701976 ]\n",
      " [1.0080335 ]\n",
      " [1.0013586 ]\n",
      " [0.92392945]\n",
      " [0.9098984 ]\n",
      " [0.98571986]\n",
      " [1.1724504 ]\n",
      " [1.462646  ]\n",
      " [1.7803781 ]\n",
      " [1.9485384 ]\n",
      " [1.7347331 ]\n",
      " [1.0788089 ]\n",
      " [0.36737102]\n",
      " [0.05157402]\n",
      " [0.14546269]\n",
      " [0.4297086 ]\n",
      " [0.7199632 ]\n",
      " [0.9308246 ]\n",
      " [1.0469211 ]\n",
      " [1.0834385 ]\n",
      " [1.0625687 ]\n",
      " [1.004133  ]\n",
      " [1.0013813 ]\n",
      " [0.9174553 ]\n",
      " [0.8938965 ]\n",
      " [0.95693856]\n",
      " [1.1291517 ]\n",
      " [1.4085453 ]\n",
      " [1.7303809 ]\n",
      " [1.9304683 ]\n",
      " [1.7755276 ]\n",
      " [1.1636491 ]\n",
      " [0.4278146 ]\n",
      " [0.05200386]\n",
      " [0.10485858]\n",
      " [0.37718433]\n",
      " [0.67336446]\n",
      " [0.8961598 ]\n",
      " [1.0237275 ]\n",
      " [1.0690877 ]\n",
      " [1.0543412 ]\n",
      " [0.99986   ]\n",
      " [1.002049  ]\n",
      " [0.91195685]\n",
      " [0.879282  ]\n",
      " [0.9299279 ]\n",
      " [1.0876547 ]\n",
      " [1.3552823 ]\n",
      " [1.6785467 ]\n",
      " [1.9065597 ]\n",
      " [1.8082954 ]\n",
      " [1.2461976 ]\n",
      " [0.49479267]\n",
      " [0.0596791 ]\n",
      " [0.06773   ]\n",
      " [0.32490003]\n",
      " [0.62548167]\n",
      " [0.859923  ]\n",
      " [0.99920815]\n",
      " [1.0537795 ]\n",
      " [1.0454767 ]\n",
      " [0.9951897 ]], shape=(80, 1), dtype=float32)\n"
     ]
    }
   ],
   "metadata": {}
  },
  {
   "cell_type": "code",
   "execution_count": 6,
   "source": [
    "import matplotlib.pyplot as plt\r\n",
    "\r\n",
    "%matplotlib inline\r\n",
    "\r\n",
    "# create a figure and axes\r\n",
    "fig = plt.figure(figsize=(8,5))\r\n",
    "ax1 = plt.subplot(1,1,1)   \r\n",
    "\r\n",
    "# set up the subplots as needed\r\n",
    "ax1.set_xlim((0, 2))            \r\n",
    "ax1.set_ylim((-1, 3))\r\n",
    "ax1.set_xlabel('Domain')\r\n",
    "ax1.set_ylabel('Phi')\r\n",
    "\r\n",
    "# create objects that will change in the animation. These are\r\n",
    "# initially empty, and will be given new values for each frame\r\n",
    "# in the animation.\r\n",
    "n=3\r\n",
    "txt_title = ax1.set_title('')\r\n",
    "line1, = ax1.plot(tf.reshape(x_line, [-1]), phi_init, 'gray', lw=2)\r\n",
    "line1, = ax1.plot(tf.reshape(x_line, [-1])+dt*n*u, phi_init, 'b', lw=2)\r\n",
    "line2, = ax1.plot(tf.reshape(x_line, [-1]), result[n*nx:(n+1)*nx], 'r-.', lw=2)\r\n",
    "# ax1.legend(['init','result'])"
   ],
   "outputs": [
    {
     "output_type": "display_data",
     "data": {
      "text/plain": [
       "<Figure size 576x360 with 1 Axes>"
      ],
      "image/png": "[encoded data removed]"
     },
     "metadata": {
      "needs_background": "light"
     }
    }
   ],
   "metadata": {}
  },
  {
   "cell_type": "code",
   "execution_count": null,
   "source": [],
   "outputs": [],
   "metadata": {}
  }
 ],
 "metadata": {
  "kernelspec": {
   "name": "python3",
   "display_name": "Python 3.7.5 64-bit ('tensorflow2_env': venv)"
  },
  "language_info": {
   "codemirror_mode": {
    "name": "ipython",
    "version": 3
   },
   "file_extension": ".py",
   "mimetype": "text/x-python",
   "name": "python",
   "nbconvert_exporter": "python",
   "pygments_lexer": "ipython3",
   "version": "3.7.5"
  },
  "interpreter": {
   "hash": "c0ea33c3d263439d946f12d944667e7eb07bf75d75a904b8c48a946582f9acf5"
  }
 },
 "nbformat": 4,
 "nbformat_minor": 4
}